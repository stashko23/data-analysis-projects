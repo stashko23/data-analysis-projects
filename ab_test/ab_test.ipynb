{
 "cells": [
  {
   "cell_type": "markdown",
   "id": "829564f4",
   "metadata": {},
   "source": [
    "# Описание проекта\n",
    "\n",
    "Заказчик: крупный интернет-магазин. \n",
    "\n",
    "Необходимо приоритезировать подготовленные гипотезы для увеличения выручки, запустить A/B-тест и проанализировать результаты. \n",
    "\n",
    "**Цели проекта:** \n",
    "- Применить фреймворки ICE и RICE для приоритизации гипотез\n",
    "- Проанализировать результаты А/В теста с помощью графиков, определить аномальные значения, посчитать статистическую значимость различий между группами\n",
    "- Сделать выводы по результатам А/В теста, принять и объяснить решение по остановке/продолжению теста"
   ]
  },
  {
   "cell_type": "markdown",
   "id": "6f7b0304",
   "metadata": {},
   "source": [
    "### Описание данных\n",
    "\n",
    "**Данные для первой части**\n",
    "\n",
    "Файл `/datasets/hypothesis.csv` — датасет с информацией о гипотезах. \n",
    "\n",
    "- `Hypothesis` — краткое описание гипотезы;\n",
    "- `Reach` — охват пользователей по 10-балльной шкале;\n",
    "- `Impact` — влияние на пользователей по 10-балльной шкале;\n",
    "- `Confidence` — уверенность в гипотезе по 10-балльной шкале;\n",
    "- `Efforts` — затраты ресурсов на проверку гипотезы по 10-балльной шкале. Чем больше значение Efforts, тем дороже проверка гипотезы.\n",
    "\n",
    "**Данные для второй части**\n",
    "\n",
    "Файл `/datasets/orders.csv` — датасет с информацией о заказах. \n",
    "\n",
    "- `transactionId` — идентификатор заказа;\n",
    "- `visitorId` — идентификатор пользователя, совершившего заказ;\n",
    "- `date` — дата, когда был совершён заказ;\n",
    "- `revenue` — выручка заказа;\n",
    "- `group` — группа A/B-теста, в которую попал заказ.\n",
    "\n",
    "Файл `/datasets/visitors.csv` — датасет с информацией о количестве пользователей в указанную дату в указанной группе A/B-теста. \n",
    "\n",
    "- `date` — дата;\n",
    "- `group` — группа A/B-теста;\n",
    "- `visitors` — количество пользователей в указанную дату в указанной группе A/B-теста"
   ]
  },
  {
   "cell_type": "markdown",
   "id": "7a11daeb",
   "metadata": {},
   "source": [
    "### Загрузка и предобработка данных"
   ]
  },
  {
   "cell_type": "code",
   "execution_count": 1,
   "id": "4c41aaab",
   "metadata": {},
   "outputs": [],
   "source": [
    "import pandas as pd\n",
    "import numpy as np\n",
    "import matplotlib.pyplot as plt\n",
    "import seaborn as sns\n",
    "import scipy.stats as stats\n",
    "import warnings\n",
    "import os\n",
    "from datetime import datetime, timedelta"
   ]
  },
  {
   "cell_type": "code",
   "execution_count": 2,
   "id": "8b3ac03f",
   "metadata": {},
   "outputs": [],
   "source": [
    "# Сброс ограничений на количество выводимых рядов\n",
    "pd.set_option('display.max_rows', None)\n",
    "\n",
    "# Сброс ограничений на количество символов в записи\n",
    "pd.set_option('display.max_colwidth', 80)\n",
    "\n",
    "# игнорирование предупреждений\n",
    "warnings.filterwarnings(action='ignore')"
   ]
  },
  {
   "cell_type": "code",
   "execution_count": 3,
   "id": "ab0546d3",
   "metadata": {},
   "outputs": [],
   "source": [
    "hypothesis = pd.read_csv('hypothesis.csv')\n",
    "orders = pd.read_csv('orders.csv')\n",
    "visitors = pd.read_csv('visitors.csv') "
   ]
  },
  {
   "cell_type": "code",
   "execution_count": 4,
   "id": "e40db61c",
   "metadata": {
    "scrolled": false
   },
   "outputs": [
    {
     "data": {
      "text/html": [
       "<div>\n",
       "<style scoped>\n",
       "    .dataframe tbody tr th:only-of-type {\n",
       "        vertical-align: middle;\n",
       "    }\n",
       "\n",
       "    .dataframe tbody tr th {\n",
       "        vertical-align: top;\n",
       "    }\n",
       "\n",
       "    .dataframe thead th {\n",
       "        text-align: right;\n",
       "    }\n",
       "</style>\n",
       "<table border=\"1\" class=\"dataframe\">\n",
       "  <thead>\n",
       "    <tr style=\"text-align: right;\">\n",
       "      <th></th>\n",
       "      <th>Hypothesis</th>\n",
       "      <th>Reach</th>\n",
       "      <th>Impact</th>\n",
       "      <th>Confidence</th>\n",
       "      <th>Efforts</th>\n",
       "    </tr>\n",
       "  </thead>\n",
       "  <tbody>\n",
       "    <tr>\n",
       "      <td>0</td>\n",
       "      <td>Добавить два новых канала привлечения трафика, что позволит привлекать на 30...</td>\n",
       "      <td>3</td>\n",
       "      <td>10</td>\n",
       "      <td>8</td>\n",
       "      <td>6</td>\n",
       "    </tr>\n",
       "    <tr>\n",
       "      <td>1</td>\n",
       "      <td>Запустить собственную службу доставки, что сократит срок доставки заказов</td>\n",
       "      <td>2</td>\n",
       "      <td>5</td>\n",
       "      <td>4</td>\n",
       "      <td>10</td>\n",
       "    </tr>\n",
       "    <tr>\n",
       "      <td>2</td>\n",
       "      <td>Добавить блоки рекомендаций товаров на сайт интернет магазина, чтобы повысит...</td>\n",
       "      <td>8</td>\n",
       "      <td>3</td>\n",
       "      <td>7</td>\n",
       "      <td>3</td>\n",
       "    </tr>\n",
       "    <tr>\n",
       "      <td>3</td>\n",
       "      <td>Изменить структура категорий, что увеличит конверсию, т.к. пользователи быст...</td>\n",
       "      <td>8</td>\n",
       "      <td>3</td>\n",
       "      <td>3</td>\n",
       "      <td>8</td>\n",
       "    </tr>\n",
       "    <tr>\n",
       "      <td>4</td>\n",
       "      <td>Изменить цвет фона главной страницы, чтобы увеличить вовлеченность пользоват...</td>\n",
       "      <td>3</td>\n",
       "      <td>1</td>\n",
       "      <td>1</td>\n",
       "      <td>1</td>\n",
       "    </tr>\n",
       "  </tbody>\n",
       "</table>\n",
       "</div>"
      ],
      "text/plain": [
       "                                                                        Hypothesis  \\\n",
       "0  Добавить два новых канала привлечения трафика, что позволит привлекать на 30...   \n",
       "1        Запустить собственную службу доставки, что сократит срок доставки заказов   \n",
       "2  Добавить блоки рекомендаций товаров на сайт интернет магазина, чтобы повысит...   \n",
       "3  Изменить структура категорий, что увеличит конверсию, т.к. пользователи быст...   \n",
       "4  Изменить цвет фона главной страницы, чтобы увеличить вовлеченность пользоват...   \n",
       "\n",
       "   Reach  Impact  Confidence  Efforts  \n",
       "0      3      10           8        6  \n",
       "1      2       5           4       10  \n",
       "2      8       3           7        3  \n",
       "3      8       3           3        8  \n",
       "4      3       1           1        1  "
      ]
     },
     "metadata": {},
     "output_type": "display_data"
    },
    {
     "name": "stdout",
     "output_type": "stream",
     "text": [
      "Количество пропусков: 0\n",
      "<class 'pandas.core.frame.DataFrame'>\n",
      "RangeIndex: 9 entries, 0 to 8\n",
      "Data columns (total 5 columns):\n",
      "Hypothesis    9 non-null object\n",
      "Reach         9 non-null int64\n",
      "Impact        9 non-null int64\n",
      "Confidence    9 non-null int64\n",
      "Efforts       9 non-null int64\n",
      "dtypes: int64(4), object(1)\n",
      "memory usage: 488.0+ bytes\n"
     ]
    }
   ],
   "source": [
    "display(hypothesis.head(5))\n",
    "print(f'Количество пропусков: {hypothesis.isna().sum().sum()}')\n",
    "hypothesis.info()"
   ]
  },
  {
   "cell_type": "markdown",
   "id": "13a82d9e",
   "metadata": {},
   "source": [
    "В датасете `hypothesis` пропуски отсутствуют, типы данных в норме. Необходимо привести названия столбцов к нижнему регистру"
   ]
  },
  {
   "cell_type": "code",
   "execution_count": 5,
   "id": "1d6e620c",
   "metadata": {},
   "outputs": [],
   "source": [
    "hypothesis.columns = hypothesis.columns.str.lower()"
   ]
  },
  {
   "cell_type": "code",
   "execution_count": 6,
   "id": "20019482",
   "metadata": {},
   "outputs": [
    {
     "data": {
      "text/html": [
       "<div>\n",
       "<style scoped>\n",
       "    .dataframe tbody tr th:only-of-type {\n",
       "        vertical-align: middle;\n",
       "    }\n",
       "\n",
       "    .dataframe tbody tr th {\n",
       "        vertical-align: top;\n",
       "    }\n",
       "\n",
       "    .dataframe thead th {\n",
       "        text-align: right;\n",
       "    }\n",
       "</style>\n",
       "<table border=\"1\" class=\"dataframe\">\n",
       "  <thead>\n",
       "    <tr style=\"text-align: right;\">\n",
       "      <th></th>\n",
       "      <th>transactionId</th>\n",
       "      <th>visitorId</th>\n",
       "      <th>date</th>\n",
       "      <th>revenue</th>\n",
       "      <th>group</th>\n",
       "    </tr>\n",
       "  </thead>\n",
       "  <tbody>\n",
       "    <tr>\n",
       "      <td>0</td>\n",
       "      <td>3667963787</td>\n",
       "      <td>3312258926</td>\n",
       "      <td>2019-08-15</td>\n",
       "      <td>1650</td>\n",
       "      <td>B</td>\n",
       "    </tr>\n",
       "    <tr>\n",
       "      <td>1</td>\n",
       "      <td>2804400009</td>\n",
       "      <td>3642806036</td>\n",
       "      <td>2019-08-15</td>\n",
       "      <td>730</td>\n",
       "      <td>B</td>\n",
       "    </tr>\n",
       "    <tr>\n",
       "      <td>2</td>\n",
       "      <td>2961555356</td>\n",
       "      <td>4069496402</td>\n",
       "      <td>2019-08-15</td>\n",
       "      <td>400</td>\n",
       "      <td>A</td>\n",
       "    </tr>\n",
       "    <tr>\n",
       "      <td>3</td>\n",
       "      <td>3797467345</td>\n",
       "      <td>1196621759</td>\n",
       "      <td>2019-08-15</td>\n",
       "      <td>9759</td>\n",
       "      <td>B</td>\n",
       "    </tr>\n",
       "    <tr>\n",
       "      <td>4</td>\n",
       "      <td>2282983706</td>\n",
       "      <td>2322279887</td>\n",
       "      <td>2019-08-15</td>\n",
       "      <td>2308</td>\n",
       "      <td>B</td>\n",
       "    </tr>\n",
       "  </tbody>\n",
       "</table>\n",
       "</div>"
      ],
      "text/plain": [
       "   transactionId   visitorId        date  revenue group\n",
       "0     3667963787  3312258926  2019-08-15     1650     B\n",
       "1     2804400009  3642806036  2019-08-15      730     B\n",
       "2     2961555356  4069496402  2019-08-15      400     A\n",
       "3     3797467345  1196621759  2019-08-15     9759     B\n",
       "4     2282983706  2322279887  2019-08-15     2308     B"
      ]
     },
     "metadata": {},
     "output_type": "display_data"
    },
    {
     "name": "stdout",
     "output_type": "stream",
     "text": [
      "Количество пропусков: 0\n",
      "<class 'pandas.core.frame.DataFrame'>\n",
      "RangeIndex: 1197 entries, 0 to 1196\n",
      "Data columns (total 5 columns):\n",
      "transactionId    1197 non-null int64\n",
      "visitorId        1197 non-null int64\n",
      "date             1197 non-null object\n",
      "revenue          1197 non-null int64\n",
      "group            1197 non-null object\n",
      "dtypes: int64(3), object(2)\n",
      "memory usage: 46.9+ KB\n"
     ]
    }
   ],
   "source": [
    "display(orders.head(5))\n",
    "print(f'Количество пропусков: {orders.isna().sum().sum()}')\n",
    "orders.info()"
   ]
  },
  {
   "cell_type": "markdown",
   "id": "809f5304",
   "metadata": {},
   "source": [
    "В датасете `orders` пропуски отсутствуют. Необходимо столбец `date` привести к временному формату, а так же переименовать столбцы `transactionId` и `visitorId`"
   ]
  },
  {
   "cell_type": "code",
   "execution_count": 7,
   "id": "044bf91f",
   "metadata": {},
   "outputs": [],
   "source": [
    "orders.columns = [col.replace('Id', '_id') for col in orders.columns]\n",
    "orders['date'] = pd.to_datetime(orders['date'])"
   ]
  },
  {
   "cell_type": "code",
   "execution_count": 8,
   "id": "36253859",
   "metadata": {
    "scrolled": false
   },
   "outputs": [
    {
     "data": {
      "text/html": [
       "<div>\n",
       "<style scoped>\n",
       "    .dataframe tbody tr th:only-of-type {\n",
       "        vertical-align: middle;\n",
       "    }\n",
       "\n",
       "    .dataframe tbody tr th {\n",
       "        vertical-align: top;\n",
       "    }\n",
       "\n",
       "    .dataframe thead th {\n",
       "        text-align: right;\n",
       "    }\n",
       "</style>\n",
       "<table border=\"1\" class=\"dataframe\">\n",
       "  <thead>\n",
       "    <tr style=\"text-align: right;\">\n",
       "      <th></th>\n",
       "      <th>date</th>\n",
       "      <th>group</th>\n",
       "      <th>visitors</th>\n",
       "    </tr>\n",
       "  </thead>\n",
       "  <tbody>\n",
       "    <tr>\n",
       "      <td>0</td>\n",
       "      <td>2019-08-01</td>\n",
       "      <td>A</td>\n",
       "      <td>719</td>\n",
       "    </tr>\n",
       "    <tr>\n",
       "      <td>1</td>\n",
       "      <td>2019-08-02</td>\n",
       "      <td>A</td>\n",
       "      <td>619</td>\n",
       "    </tr>\n",
       "    <tr>\n",
       "      <td>2</td>\n",
       "      <td>2019-08-03</td>\n",
       "      <td>A</td>\n",
       "      <td>507</td>\n",
       "    </tr>\n",
       "    <tr>\n",
       "      <td>3</td>\n",
       "      <td>2019-08-04</td>\n",
       "      <td>A</td>\n",
       "      <td>717</td>\n",
       "    </tr>\n",
       "    <tr>\n",
       "      <td>4</td>\n",
       "      <td>2019-08-05</td>\n",
       "      <td>A</td>\n",
       "      <td>756</td>\n",
       "    </tr>\n",
       "  </tbody>\n",
       "</table>\n",
       "</div>"
      ],
      "text/plain": [
       "         date group  visitors\n",
       "0  2019-08-01     A       719\n",
       "1  2019-08-02     A       619\n",
       "2  2019-08-03     A       507\n",
       "3  2019-08-04     A       717\n",
       "4  2019-08-05     A       756"
      ]
     },
     "metadata": {},
     "output_type": "display_data"
    },
    {
     "name": "stdout",
     "output_type": "stream",
     "text": [
      "Количество пропусков: 0\n",
      "<class 'pandas.core.frame.DataFrame'>\n",
      "RangeIndex: 62 entries, 0 to 61\n",
      "Data columns (total 3 columns):\n",
      "date        62 non-null object\n",
      "group       62 non-null object\n",
      "visitors    62 non-null int64\n",
      "dtypes: int64(1), object(2)\n",
      "memory usage: 1.6+ KB\n"
     ]
    }
   ],
   "source": [
    "display(visitors.head(5))\n",
    "print(f'Количество пропусков: {visitors.isna().sum().sum()}')\n",
    "visitors.info()"
   ]
  },
  {
   "cell_type": "markdown",
   "id": "2ac4a350",
   "metadata": {},
   "source": [
    "В датасете `visitors` пропуски отсутствуют. Необходимо столбец `date` привести к временному формату."
   ]
  },
  {
   "cell_type": "code",
   "execution_count": 9,
   "id": "671fee53",
   "metadata": {},
   "outputs": [],
   "source": [
    "visitors['date'] = pd.to_datetime(visitors['date'])"
   ]
  },
  {
   "cell_type": "code",
   "execution_count": 10,
   "id": "1c141b94",
   "metadata": {},
   "outputs": [
    {
     "name": "stdout",
     "output_type": "stream",
     "text": [
      "Количество явных дубликатов в датасете orders: 0\n",
      "Количество явных дубликатов в датасете orders: 0\n"
     ]
    }
   ],
   "source": [
    "# проверка на явные дубликаты\n",
    "print(f'Количество явных дубликатов в датасете orders: {orders.duplicated().sum()}')\n",
    "print(f'Количество явных дубликатов в датасете orders: {visitors.duplicated().sum()}')"
   ]
  },
  {
   "cell_type": "markdown",
   "id": "b8e2bad4",
   "metadata": {},
   "source": [
    "**Вывод**\n",
    "\n",
    "Загрузила 3 датасета, провела предобработку данных и проверила данные на явные дубликаты."
   ]
  },
  {
   "cell_type": "markdown",
   "id": "85d21b91",
   "metadata": {},
   "source": [
    "### Приоритезация гипотез"
   ]
  },
  {
   "cell_type": "markdown",
   "id": "4b25156f",
   "metadata": {},
   "source": [
    "Чтобы максимизировать ожидаемое улучшение ключевых метрик бизнеса, сформулированные гипотезы приоритизируют. ICE — один из самых популярных способов приоритизации задач. У этого метода есть модификация RICE. Отличаются эти два метода тем, что RICE учитывает скольких пользователей затронет изменение, которое мы хотим внести"
   ]
  },
  {
   "cell_type": "markdown",
   "id": "cb3c2aba",
   "metadata": {},
   "source": [
    "#### Применение фреймворка ICE"
   ]
  },
  {
   "cell_type": "code",
   "execution_count": 11,
   "id": "0de6e4d0",
   "metadata": {},
   "outputs": [
    {
     "data": {
      "text/html": [
       "<div>\n",
       "<style scoped>\n",
       "    .dataframe tbody tr th:only-of-type {\n",
       "        vertical-align: middle;\n",
       "    }\n",
       "\n",
       "    .dataframe tbody tr th {\n",
       "        vertical-align: top;\n",
       "    }\n",
       "\n",
       "    .dataframe thead th {\n",
       "        text-align: right;\n",
       "    }\n",
       "</style>\n",
       "<table border=\"1\" class=\"dataframe\">\n",
       "  <thead>\n",
       "    <tr style=\"text-align: right;\">\n",
       "      <th></th>\n",
       "      <th>hypothesis</th>\n",
       "      <th>ICE</th>\n",
       "    </tr>\n",
       "  </thead>\n",
       "  <tbody>\n",
       "    <tr>\n",
       "      <td>8</td>\n",
       "      <td>Запустить акцию, дающую скидку на товар в день рождения</td>\n",
       "      <td>16.2</td>\n",
       "    </tr>\n",
       "    <tr>\n",
       "      <td>0</td>\n",
       "      <td>Добавить два новых канала привлечения трафика, что позволит привлекать на 30...</td>\n",
       "      <td>13.3</td>\n",
       "    </tr>\n",
       "    <tr>\n",
       "      <td>7</td>\n",
       "      <td>Добавить форму подписки на все основные страницы, чтобы собрать базу клиенто...</td>\n",
       "      <td>11.2</td>\n",
       "    </tr>\n",
       "    <tr>\n",
       "      <td>6</td>\n",
       "      <td>Показать на главной странице баннеры с актуальными акциями и распродажами, ч...</td>\n",
       "      <td>8.0</td>\n",
       "    </tr>\n",
       "    <tr>\n",
       "      <td>2</td>\n",
       "      <td>Добавить блоки рекомендаций товаров на сайт интернет магазина, чтобы повысит...</td>\n",
       "      <td>7.0</td>\n",
       "    </tr>\n",
       "    <tr>\n",
       "      <td>1</td>\n",
       "      <td>Запустить собственную службу доставки, что сократит срок доставки заказов</td>\n",
       "      <td>2.0</td>\n",
       "    </tr>\n",
       "    <tr>\n",
       "      <td>5</td>\n",
       "      <td>Добавить страницу отзывов клиентов о магазине, что позволит увеличить количе...</td>\n",
       "      <td>1.3</td>\n",
       "    </tr>\n",
       "    <tr>\n",
       "      <td>3</td>\n",
       "      <td>Изменить структура категорий, что увеличит конверсию, т.к. пользователи быст...</td>\n",
       "      <td>1.1</td>\n",
       "    </tr>\n",
       "    <tr>\n",
       "      <td>4</td>\n",
       "      <td>Изменить цвет фона главной страницы, чтобы увеличить вовлеченность пользоват...</td>\n",
       "      <td>1.0</td>\n",
       "    </tr>\n",
       "  </tbody>\n",
       "</table>\n",
       "</div>"
      ],
      "text/plain": [
       "                                                                        hypothesis  \\\n",
       "8                          Запустить акцию, дающую скидку на товар в день рождения   \n",
       "0  Добавить два новых канала привлечения трафика, что позволит привлекать на 30...   \n",
       "7  Добавить форму подписки на все основные страницы, чтобы собрать базу клиенто...   \n",
       "6  Показать на главной странице баннеры с актуальными акциями и распродажами, ч...   \n",
       "2  Добавить блоки рекомендаций товаров на сайт интернет магазина, чтобы повысит...   \n",
       "1        Запустить собственную службу доставки, что сократит срок доставки заказов   \n",
       "5  Добавить страницу отзывов клиентов о магазине, что позволит увеличить количе...   \n",
       "3  Изменить структура категорий, что увеличит конверсию, т.к. пользователи быст...   \n",
       "4  Изменить цвет фона главной страницы, чтобы увеличить вовлеченность пользоват...   \n",
       "\n",
       "    ICE  \n",
       "8  16.2  \n",
       "0  13.3  \n",
       "7  11.2  \n",
       "6   8.0  \n",
       "2   7.0  \n",
       "1   2.0  \n",
       "5   1.3  \n",
       "3   1.1  \n",
       "4   1.0  "
      ]
     },
     "execution_count": 11,
     "metadata": {},
     "output_type": "execute_result"
    }
   ],
   "source": [
    "hypothesis['ICE'] = (hypothesis['impact'] * hypothesis['confidence'] / hypothesis['efforts']).round(1)\n",
    "hypothesis[['hypothesis', 'ICE']].sort_values(by='ICE', ascending=False)"
   ]
  },
  {
   "cell_type": "markdown",
   "id": "a743d240",
   "metadata": {},
   "source": [
    "Наиболее перспективные гипотезы по ICE: 8, 0, 7."
   ]
  },
  {
   "cell_type": "markdown",
   "id": "77e41fbb",
   "metadata": {},
   "source": [
    "#### Применение фреймворка RICE"
   ]
  },
  {
   "cell_type": "code",
   "execution_count": 12,
   "id": "6f8fc04c",
   "metadata": {},
   "outputs": [
    {
     "data": {
      "text/html": [
       "<div>\n",
       "<style scoped>\n",
       "    .dataframe tbody tr th:only-of-type {\n",
       "        vertical-align: middle;\n",
       "    }\n",
       "\n",
       "    .dataframe tbody tr th {\n",
       "        vertical-align: top;\n",
       "    }\n",
       "\n",
       "    .dataframe thead th {\n",
       "        text-align: right;\n",
       "    }\n",
       "</style>\n",
       "<table border=\"1\" class=\"dataframe\">\n",
       "  <thead>\n",
       "    <tr style=\"text-align: right;\">\n",
       "      <th></th>\n",
       "      <th>hypothesis</th>\n",
       "      <th>RICE</th>\n",
       "    </tr>\n",
       "  </thead>\n",
       "  <tbody>\n",
       "    <tr>\n",
       "      <td>7</td>\n",
       "      <td>Добавить форму подписки на все основные страницы, чтобы собрать базу клиенто...</td>\n",
       "      <td>112.0</td>\n",
       "    </tr>\n",
       "    <tr>\n",
       "      <td>2</td>\n",
       "      <td>Добавить блоки рекомендаций товаров на сайт интернет магазина, чтобы повысит...</td>\n",
       "      <td>56.0</td>\n",
       "    </tr>\n",
       "    <tr>\n",
       "      <td>0</td>\n",
       "      <td>Добавить два новых канала привлечения трафика, что позволит привлекать на 30...</td>\n",
       "      <td>40.0</td>\n",
       "    </tr>\n",
       "    <tr>\n",
       "      <td>6</td>\n",
       "      <td>Показать на главной странице баннеры с актуальными акциями и распродажами, ч...</td>\n",
       "      <td>40.0</td>\n",
       "    </tr>\n",
       "    <tr>\n",
       "      <td>8</td>\n",
       "      <td>Запустить акцию, дающую скидку на товар в день рождения</td>\n",
       "      <td>16.2</td>\n",
       "    </tr>\n",
       "    <tr>\n",
       "      <td>3</td>\n",
       "      <td>Изменить структура категорий, что увеличит конверсию, т.к. пользователи быст...</td>\n",
       "      <td>9.0</td>\n",
       "    </tr>\n",
       "    <tr>\n",
       "      <td>1</td>\n",
       "      <td>Запустить собственную службу доставки, что сократит срок доставки заказов</td>\n",
       "      <td>4.0</td>\n",
       "    </tr>\n",
       "    <tr>\n",
       "      <td>5</td>\n",
       "      <td>Добавить страницу отзывов клиентов о магазине, что позволит увеличить количе...</td>\n",
       "      <td>4.0</td>\n",
       "    </tr>\n",
       "    <tr>\n",
       "      <td>4</td>\n",
       "      <td>Изменить цвет фона главной страницы, чтобы увеличить вовлеченность пользоват...</td>\n",
       "      <td>3.0</td>\n",
       "    </tr>\n",
       "  </tbody>\n",
       "</table>\n",
       "</div>"
      ],
      "text/plain": [
       "                                                                        hypothesis  \\\n",
       "7  Добавить форму подписки на все основные страницы, чтобы собрать базу клиенто...   \n",
       "2  Добавить блоки рекомендаций товаров на сайт интернет магазина, чтобы повысит...   \n",
       "0  Добавить два новых канала привлечения трафика, что позволит привлекать на 30...   \n",
       "6  Показать на главной странице баннеры с актуальными акциями и распродажами, ч...   \n",
       "8                          Запустить акцию, дающую скидку на товар в день рождения   \n",
       "3  Изменить структура категорий, что увеличит конверсию, т.к. пользователи быст...   \n",
       "1        Запустить собственную службу доставки, что сократит срок доставки заказов   \n",
       "5  Добавить страницу отзывов клиентов о магазине, что позволит увеличить количе...   \n",
       "4  Изменить цвет фона главной страницы, чтобы увеличить вовлеченность пользоват...   \n",
       "\n",
       "    RICE  \n",
       "7  112.0  \n",
       "2   56.0  \n",
       "0   40.0  \n",
       "6   40.0  \n",
       "8   16.2  \n",
       "3    9.0  \n",
       "1    4.0  \n",
       "5    4.0  \n",
       "4    3.0  "
      ]
     },
     "execution_count": 12,
     "metadata": {},
     "output_type": "execute_result"
    }
   ],
   "source": [
    "hypothesis['RICE'] = (hypothesis['reach'] * hypothesis['impact'] * hypothesis['confidence'] \\\n",
    "                      / hypothesis['efforts']).round(1)\n",
    "hypothesis[['hypothesis', 'RICE']].sort_values(by='RICE', ascending=False)"
   ]
  },
  {
   "cell_type": "markdown",
   "id": "fcaf76e3",
   "metadata": {},
   "source": [
    "Наиболее перспективные гипотезы по RICE: 7, 2, 0, 6."
   ]
  },
  {
   "cell_type": "markdown",
   "id": "2a08d4f7",
   "metadata": {},
   "source": [
    "**Вывод**\n",
    "\n",
    "Наиболее перспективные гипотезы по ICE: 8, 0, 7. \n",
    "Наиболее перспективные гипотезы по RICE: 7, 2, 0, 6, здесь на первом месте уже гипотеза под номером 7. Так получилось, потому что её параметр Reach, который отвечает за охват пользователец, максимальный и равен 10, в то время как у других гипотез он меньше, а у 8 гипотезы минимальный. "
   ]
  },
  {
   "cell_type": "markdown",
   "id": "8826ea2c",
   "metadata": {},
   "source": [
    "### Анализ А/В-теста"
   ]
  },
  {
   "cell_type": "code",
   "execution_count": 13,
   "id": "ec3e1c61",
   "metadata": {},
   "outputs": [
    {
     "name": "stdout",
     "output_type": "stream",
     "text": [
      "['B' 'A']\n"
     ]
    }
   ],
   "source": [
    "print(orders.group.unique())"
   ]
  },
  {
   "cell_type": "markdown",
   "id": "f7dbd25d",
   "metadata": {},
   "source": [
    "В тесте участвуют 2 группы, А и В. Сделаю проверку пользователей на вхождение в несколько групп."
   ]
  },
  {
   "cell_type": "code",
   "execution_count": 14,
   "id": "76f80431",
   "metadata": {},
   "outputs": [
    {
     "data": {
      "text/plain": [
       "group    58\n",
       "dtype: int64"
      ]
     },
     "execution_count": 14,
     "metadata": {},
     "output_type": "execute_result"
    }
   ],
   "source": [
    "double_group = orders.pivot_table(index='visitor_id', values='group', aggfunc={'group': 'nunique'}) \\\n",
    "                     .query('group == 2')\n",
    "double_group.count()"
   ]
  },
  {
   "cell_type": "markdown",
   "id": "c0373b32",
   "metadata": {},
   "source": [
    "Имеется 58 пользователей вошедших и в группу А, и в группу В. Таких пользователей необходимо удалить из датафрейма `orders`. Из датафрейма `visitors` удалить таких пользоватеелй не получится, так как в этом датафрейме нет информации о том, какие пользователи из каких групп."
   ]
  },
  {
   "cell_type": "code",
   "execution_count": 15,
   "id": "e6ba3dbe",
   "metadata": {},
   "outputs": [],
   "source": [
    "orders = orders.query('visitor_id not in @double_group.index')"
   ]
  },
  {
   "cell_type": "code",
   "execution_count": 16,
   "id": "d00a9d71",
   "metadata": {},
   "outputs": [
    {
     "data": {
      "text/html": [
       "<div>\n",
       "<style scoped>\n",
       "    .dataframe tbody tr th:only-of-type {\n",
       "        vertical-align: middle;\n",
       "    }\n",
       "\n",
       "    .dataframe tbody tr th {\n",
       "        vertical-align: top;\n",
       "    }\n",
       "\n",
       "    .dataframe thead th {\n",
       "        text-align: right;\n",
       "    }\n",
       "</style>\n",
       "<table border=\"1\" class=\"dataframe\">\n",
       "  <thead>\n",
       "    <tr style=\"text-align: right;\">\n",
       "      <th></th>\n",
       "      <th>visitor_id</th>\n",
       "    </tr>\n",
       "    <tr>\n",
       "      <th>group</th>\n",
       "      <th></th>\n",
       "    </tr>\n",
       "  </thead>\n",
       "  <tbody>\n",
       "    <tr>\n",
       "      <td>A</td>\n",
       "      <td>445</td>\n",
       "    </tr>\n",
       "    <tr>\n",
       "      <td>B</td>\n",
       "      <td>528</td>\n",
       "    </tr>\n",
       "  </tbody>\n",
       "</table>\n",
       "</div>"
      ],
      "text/plain": [
       "       visitor_id\n",
       "group            \n",
       "A             445\n",
       "B             528"
      ]
     },
     "execution_count": 16,
     "metadata": {},
     "output_type": "execute_result"
    }
   ],
   "source": [
    "orders.pivot_table(index='group', values='visitor_id', aggfunc={'visitor_id': 'nunique'})"
   ]
  },
  {
   "cell_type": "markdown",
   "id": "a15385ee",
   "metadata": {},
   "source": [
    "Группы получились не совсем одинаковые, но ничего страшного в этом нет. Статистический тест без проблем отработает и для разных по размеру групп."
   ]
  },
  {
   "cell_type": "code",
   "execution_count": 17,
   "id": "30959ab3",
   "metadata": {},
   "outputs": [
    {
     "name": "stdout",
     "output_type": "stream",
     "text": [
      "Дата начала теста: 2019-08-01 00:00:00\n",
      "Дата окончания теста: 2019-08-31 00:00:00\n"
     ]
    }
   ],
   "source": [
    "print(f'Дата начала теста: {orders.date.min()}\\nДата окончания теста: {orders.date.max()}')"
   ]
  },
  {
   "cell_type": "markdown",
   "id": "3fa1d4e6",
   "metadata": {},
   "source": [
    "#### График кумулятивной выручки по группам"
   ]
  },
  {
   "cell_type": "code",
   "execution_count": 18,
   "id": "6d14682f",
   "metadata": {
    "scrolled": false
   },
   "outputs": [],
   "source": [
    "# создаем массив уникальных пар значений дат и групп теста\n",
    "dates_groups = orders[['date','group']].drop_duplicates()\n",
    "\n",
    "orders_aggregated = dates_groups.apply(\n",
    "    lambda x: orders[np.logical_and(orders['date'] <= x['date'], orders['group'] == x['group'])] \\\n",
    "    .agg({'date' : 'max', \n",
    "          'group' : 'max', \n",
    "          'transaction_id' : 'nunique',\n",
    "          'visitor_id' : 'nunique',\n",
    "          'revenue' : 'sum'}), axis=1) \\\n",
    "    .sort_values(by=['date','group'])\n",
    "\n",
    "\n",
    "visitors_aggregated = dates_groups.apply(\n",
    "    lambda x: visitors[np.logical_and(visitors['date'] <= x['date'], visitors['group'] == x['group'])] \\\n",
    "    .agg({'date' : 'max', \n",
    "          'group' : 'max', \n",
    "          'visitors' : 'sum'}), axis=1) \\\n",
    "    .sort_values(by=['date', 'group'])\n",
    "\n",
    "cumulative_data = orders_aggregated.merge(\n",
    "                                            visitors_aggregated, \n",
    "                                            left_on=['date', 'group'], \n",
    "                                            right_on=['date', 'group']\n",
    "                                          )"
   ]
  },
  {
   "cell_type": "markdown",
   "id": "27576d53",
   "metadata": {},
   "source": [
    "Построю графики кумулятивной выручки по дням и группам A/B-тестирования:"
   ]
  },
  {
   "cell_type": "code",
   "execution_count": 19,
   "id": "32ca5f9d",
   "metadata": {},
   "outputs": [
    {
     "data": {
      "image/png": "[encoded data removed]",
      "text/plain": [
       "<Figure size 700x500 with 1 Axes>"
      ]
     },
     "metadata": {},
     "output_type": "display_data"
    }
   ],
   "source": [
    "cumulative_revenue_a = cumulative_data[cumulative_data['group']=='A'][['date','revenue', 'transaction_id']]\n",
    "cumulative_revenue_b = cumulative_data[cumulative_data['group']=='B'][['date','revenue', 'transaction_id']]\n",
    "\n",
    "plt.figure(figsize=(7,5))\n",
    "plt.plot(cumulative_revenue_a['date'], cumulative_revenue_a['revenue'], label='A')\n",
    "plt.plot(cumulative_revenue_b['date'], cumulative_revenue_b['revenue'], label='B')\n",
    "plt.title('График кумулятивной выручки по группам')\n",
    "plt.ylabel('Выручка')\n",
    "plt.xlabel('Дата проведения теста')\n",
    "plt.xticks(rotation=30)\n",
    "plt.legend()\n",
    "plt.show()"
   ]
  },
  {
   "cell_type": "markdown",
   "id": "37df1d1a",
   "metadata": {},
   "source": [
    "Выручка увеличивается в течение всего теста. Однако график выручки для группы А резко растет 18.08.19. Это может сигнализировать о всплесках числа заказов, либо о появлении очень дорогих заказов в выборке. "
   ]
  },
  {
   "cell_type": "markdown",
   "id": "d2405991",
   "metadata": {},
   "source": [
    "#### График кумулятивного среднего чека по группам"
   ]
  },
  {
   "cell_type": "markdown",
   "id": "2941af2b",
   "metadata": {},
   "source": [
    "Построю графики среднего чека по группам — разделю кумулятивную выручку на кумулятивное число заказов:"
   ]
  },
  {
   "cell_type": "code",
   "execution_count": 20,
   "id": "03ea2b24",
   "metadata": {},
   "outputs": [
    {
     "data": {
      "image/png": "[encoded data removed]",
      "text/plain": [
       "<Figure size 700x500 with 1 Axes>"
      ]
     },
     "metadata": {},
     "output_type": "display_data"
    }
   ],
   "source": [
    "plt.figure(figsize=(7,5))\n",
    "plt.plot(\n",
    "            cumulative_revenue_a['date'], \n",
    "            cumulative_revenue_a['revenue']/cumulative_revenue_a['transaction_id'], \n",
    "            label='A'\n",
    "        )\n",
    "\n",
    "plt.plot(\n",
    "            cumulative_revenue_b['date'], \n",
    "            cumulative_revenue_b['revenue']/cumulative_revenue_b['transaction_id'], \n",
    "            label='B'\n",
    "        )\n",
    "\n",
    "plt.title('График кумулятивного среднего чека по группам')\n",
    "plt.ylabel('Средний чек')\n",
    "plt.xlabel('Дата проведения теста')\n",
    "plt.xticks(rotation=30)\n",
    "plt.legend()\n",
    "plt.show()"
   ]
  },
  {
   "cell_type": "markdown",
   "id": "d24a3cb8",
   "metadata": {},
   "source": [
    "График для обеих групп крайне неравномерный в начале эксперимента, для группы А установился ближе к концу теста, для группы В в конце теста продолжает снижаться после пика 20.08.2019"
   ]
  },
  {
   "cell_type": "markdown",
   "id": "12eefca8",
   "metadata": {},
   "source": [
    "#### График относительного изменения кумулятивного среднего чека группы В к группе А"
   ]
  },
  {
   "cell_type": "code",
   "execution_count": 21,
   "id": "3652b81e",
   "metadata": {},
   "outputs": [
    {
     "data": {
      "image/png": "[encoded data removed]",
      "text/plain": [
       "<Figure size 700x500 with 1 Axes>"
      ]
     },
     "metadata": {},
     "output_type": "display_data"
    }
   ],
   "source": [
    "merged_cumulative_revenue = cumulative_revenue_a.merge(\n",
    "                                                          cumulative_revenue_b, \n",
    "                                                          left_on='date', \n",
    "                                                          right_on='date', \n",
    "                                                          how='left', \n",
    "                                                          suffixes=['A', 'B']\n",
    "                                                      )\n",
    "plt.figure(figsize=(7,5))\n",
    "plt.plot(\n",
    "    merged_cumulative_revenue['date'], \n",
    "    (merged_cumulative_revenue['revenueB']/merged_cumulative_revenue['transaction_idB'])/ \\\n",
    "    (merged_cumulative_revenue['revenueA']/merged_cumulative_revenue['transaction_idA'])-1)\n",
    "\n",
    "# добавляем ось X\n",
    "plt.axhline(y=0, color='black', linestyle='--')\n",
    "plt.title('График  относительного изменения кумулятивного\\n среднего чека группы В к группе А')\n",
    "plt.xlabel('Дата проведения теста')\n",
    "plt.ylabel('Относительное изменения кумулятивного\\n среднего чека группы В к группе А')\n",
    "plt.xticks(rotation=30)\n",
    "plt.show()"
   ]
  },
  {
   "cell_type": "markdown",
   "id": "f83efb0b",
   "metadata": {},
   "source": [
    "В нескольких точках график различия между сегментами резко увеличивается или уменьшается. Это могут быть крупные заказы или выбросы."
   ]
  },
  {
   "cell_type": "markdown",
   "id": "926682fc",
   "metadata": {},
   "source": [
    "#### График кумулятивного среднего количества заказов на посетителя по группам"
   ]
  },
  {
   "cell_type": "code",
   "execution_count": 22,
   "id": "985b7ce3",
   "metadata": {},
   "outputs": [
    {
     "data": {
      "image/png": "[encoded data removed]",
      "text/plain": [
       "<Figure size 700x500 with 1 Axes>"
      ]
     },
     "metadata": {},
     "output_type": "display_data"
    }
   ],
   "source": [
    "cumulative_data['avg_orders'] = cumulative_data['transaction_id']/cumulative_data['visitors']\n",
    "\n",
    "\n",
    "# отделяем данные по группе А\n",
    "cumulative_data_a = cumulative_data[cumulative_data['group']=='A']\n",
    "\n",
    "# отделяем данные по группе B\n",
    "cumulative_data_b = cumulative_data[cumulative_data['group']=='B']\n",
    "\n",
    "plt.figure(figsize=(7,5))\n",
    "plt.plot(cumulative_data_a['date'], cumulative_data_a['avg_orders'], label='A')\n",
    "plt.plot(cumulative_data_b['date'], cumulative_data_b['avg_orders'], label='B')\n",
    "plt.title('График кумулятивного среднего\\n количества заказов на посетителя по группам')\n",
    "plt.ylabel('Cреднее количество заказов на посетителя')\n",
    "plt.xlabel('Дата проведения теста')\n",
    "plt.xticks(rotation=30)\n",
    "# задаем масштаб осей\n",
    "plt.ylim(0.0225, 0.0375)\n",
    "plt.legend()\n",
    "plt.show()"
   ]
  },
  {
   "cell_type": "markdown",
   "id": "ee389a7e",
   "metadata": {},
   "source": [
    "Группы колебались около одного значения, но затем среднее количество заказов на посетителя группы В вырвалось вперёд и зафиксировалось, а у группы А просело и также зафиксировалась."
   ]
  },
  {
   "cell_type": "markdown",
   "id": "e5140c36",
   "metadata": {},
   "source": [
    "#### График относительного изменения кумулятивного среднего количества заказов на посетителя группы В к группе А "
   ]
  },
  {
   "cell_type": "code",
   "execution_count": 23,
   "id": "db3ab1a9",
   "metadata": {},
   "outputs": [
    {
     "data": {
      "image/png": "[encoded data removed]",
      "text/plain": [
       "<Figure size 700x500 with 1 Axes>"
      ]
     },
     "metadata": {},
     "output_type": "display_data"
    }
   ],
   "source": [
    "merged_cumulative_avg = cumulative_data_a[['date','avg_orders']].merge(\n",
    "                                                                         cumulative_data_b[['date','avg_orders']], \n",
    "                                                                         left_on='date', \n",
    "                                                                         right_on='date', \n",
    "                                                                         how='left', \n",
    "                                                                         suffixes=['A', 'B']\n",
    "                                                                      )\n",
    "plt.figure(figsize=(7,5))\n",
    "plt.plot(\n",
    "           merged_cumulative_avg['date'], \n",
    "           merged_cumulative_avg['avg_ordersB']/merged_cumulative_avg['avg_ordersA']-1, \n",
    "        )\n",
    "\n",
    "plt.title('График относительного изменения кумулятивного среднего\\n количества заказов на посетителя группы В к группе А')\n",
    "plt.axhline(y=0, color='black', linestyle='--')\n",
    "plt.axhline(y=-0.1, color='grey', linestyle='--')\n",
    "plt.xlabel('Дата проведения теста')\n",
    "plt.ylabel('Относительное изменение кумулятивного\\nсреднего количества заказов на посетителя\\nгруппы группы В к группе А')\n",
    "plt.xticks(rotation=30)\n",
    "plt.show()"
   ]
  },
  {
   "cell_type": "markdown",
   "id": "869208a6",
   "metadata": {},
   "source": [
    "В начале теста группа B проигрывала группе A, затем вырвалась вперёд. В целом график колеблется к концу теста, и сейчас делать какие-либо выводы по тесту сложно."
   ]
  },
  {
   "cell_type": "markdown",
   "id": "b422f7fa",
   "metadata": {},
   "source": [
    "#### График количества заказов по пользователям"
   ]
  },
  {
   "cell_type": "code",
   "execution_count": 24,
   "id": "af753cb0",
   "metadata": {
    "scrolled": false
   },
   "outputs": [
    {
     "data": {
      "image/png": "[encoded data removed]",
      "text/plain": [
       "<Figure size 700x500 with 1 Axes>"
      ]
     },
     "metadata": {},
     "output_type": "display_data"
    }
   ],
   "source": [
    "orders_by_users = (\n",
    "    orders.groupby('visitor_id', as_index=False)\n",
    "    .agg({'transaction_id': 'nunique'})\n",
    ")\n",
    "orders_by_users.columns =  ['visitor_id', 'orders']\n",
    "\n",
    "x_values = pd.Series(range(0, len(orders_by_users)))\n",
    "plt.figure(figsize=(7,5))\n",
    "plt.scatter(x_values, orders_by_users['orders'], alpha=0.5, s=5, color='red', marker='o')\n",
    "plt.yticks(orders_by_users.orders.unique())\n",
    "plt.title('График количества заказов по пользователям')\n",
    "plt.ylabel('Количество заказов на пользователя')\n",
    "plt.xlabel('Количество пользователей')\n",
    "plt.show()"
   ]
  },
  {
   "cell_type": "markdown",
   "id": "7814a6d1",
   "metadata": {},
   "source": [
    "Практически все пользователи делали 1 заказ, малая часть пользователей 2 заказа, и всего лишь несколько пользователей сделали 3 закаказа."
   ]
  },
  {
   "cell_type": "markdown",
   "id": "51a6593d",
   "metadata": {},
   "source": [
    "#### Расчет 95 и 99 перцентиля количества заказов на пользователя"
   ]
  },
  {
   "cell_type": "code",
   "execution_count": 25,
   "id": "9ace4d75",
   "metadata": {},
   "outputs": [
    {
     "name": "stdout",
     "output_type": "stream",
     "text": [
      "[1. 2.]\n"
     ]
    }
   ],
   "source": [
    "print(np.percentile(orders_by_users['orders'], [95, 99]))"
   ]
  },
  {
   "cell_type": "markdown",
   "id": "b98471ea",
   "metadata": {},
   "source": [
    "Не больше 1 % пользователей сделали 3 заказа. Оставлю 2 заказа на одного пользователя за верхнюю границу числа заказов, и отсею аномальных пользователей по ней."
   ]
  },
  {
   "cell_type": "markdown",
   "id": "d9297381",
   "metadata": {},
   "source": [
    "#### График стоимостей заказов"
   ]
  },
  {
   "cell_type": "code",
   "execution_count": 26,
   "id": "c9258c0b",
   "metadata": {},
   "outputs": [
    {
     "data": {
      "image/png": "[encoded data removed]",
      "text/plain": [
       "<Figure size 700x500 with 1 Axes>"
      ]
     },
     "metadata": {},
     "output_type": "display_data"
    }
   ],
   "source": [
    "x_values = pd.Series(range(0, len(orders['revenue'])))\n",
    "plt.figure(figsize=(7,5))\n",
    "plt.scatter(x_values, orders['revenue'], alpha=0.4, s=5, color='red', marker='o')\n",
    "plt.title('График стоимостей заказов')\n",
    "plt.ylabel('Стоимость заказов')\n",
    "plt.xlabel('Количество пользователей')\n",
    "plt.show()"
   ]
  },
  {
   "cell_type": "code",
   "execution_count": 27,
   "id": "c084033b",
   "metadata": {},
   "outputs": [
    {
     "data": {
      "image/png": "[encoded data removed]",
      "text/plain": [
       "<Figure size 700x500 with 1 Axes>"
      ]
     },
     "metadata": {},
     "output_type": "display_data"
    }
   ],
   "source": [
    "plt.figure(figsize=(7,5))\n",
    "plt.scatter(x_values, orders['revenue'], alpha=0.3, s=5, color='red', marker='o')\n",
    "plt.ylim(-0.1, 100000)\n",
    "plt.title('График стоимостей заказов')\n",
    "plt.ylabel('Стоимость заказов')\n",
    "plt.xlabel('Количество пользователей')\n",
    "plt.show()"
   ]
  },
  {
   "cell_type": "markdown",
   "id": "455cc6cd",
   "metadata": {},
   "source": [
    "Практически все заказы стоимостью до 40 000. Есть выбросы со стоимостью заказа более 1 200 000."
   ]
  },
  {
   "cell_type": "markdown",
   "id": "9a461699",
   "metadata": {},
   "source": [
    "#### Расчет 95 и 99 перцентиля стоимости заказов"
   ]
  },
  {
   "cell_type": "code",
   "execution_count": 28,
   "id": "1038b2bc",
   "metadata": {},
   "outputs": [
    {
     "name": "stdout",
     "output_type": "stream",
     "text": [
      "[26785. 53904.]\n"
     ]
    }
   ],
   "source": [
    "print(np.percentile(orders['revenue'], [95, 99]))"
   ]
  },
  {
   "cell_type": "markdown",
   "id": "a3e4954e",
   "metadata": {},
   "source": [
    "95 % пользователей тратят на заказ до 26 785. Не более 1 % заказов дороже 53 904. Поэтому верхней границей стоимости заказа будет сумма равная 53 904."
   ]
  },
  {
   "cell_type": "markdown",
   "id": "5fca69d6",
   "metadata": {},
   "source": [
    "#### Расчет статистической значимости различий в среднем количестве заказов на посетителя между группами по \"сырым\" данным"
   ]
  },
  {
   "cell_type": "markdown",
   "id": "13f91b76",
   "metadata": {},
   "source": [
    "На предыдущих шагах были оценены результаты A/B-теста визуально. Выяснила, что в данных есть выбросы, нашла границу для их определения.\n",
    "\n",
    "Рассчитаю статистическую значимость различий в среднем числе заказов на пользователя между группами по «сырым» данным — без удаления аномальных пользователей.\n",
    "\n",
    "**Сформулирую нулевую гипотезу:**\n",
    "\n",
    "**H₀** = Различий в среднем количестве заказов на посетителя между группами нет\n",
    "\n",
    "**Исходя из нулевой гипотезы сформулирую альтернативную:**\n",
    "\n",
    "**H₁** = Различия в среднем количестве заказов посетителя между группами есть\n",
    "\n",
    "Уровень статистической значимости **α** = 0.05\n",
    "Проверка статистической значимости будет производиться с помощью критерия Манна-Уитни, так как этот тест учитывает выбросы в данных путем ранжирования значений."
   ]
  },
  {
   "cell_type": "code",
   "execution_count": 29,
   "id": "07cd5a08",
   "metadata": {},
   "outputs": [
    {
     "name": "stdout",
     "output_type": "stream",
     "text": [
      "p-value: 0.006\n",
      "Относительный прирост среднего числа заказов на посетителя группы B:       0.160\n"
     ]
    }
   ],
   "source": [
    "total_visitors_a = visitors.query('group == \"A\"').visitors.sum()\n",
    "total_visitors_b = visitors.query('group == \"B\"').visitors.sum()\n",
    "\n",
    "orders_by_users_a = (\n",
    "    orders[orders['group'] == 'A']\n",
    "    .groupby('visitor_id', as_index=False)\n",
    "    .agg({'transaction_id': pd.Series.nunique})\n",
    ")\n",
    "orders_by_users_a.columns = ['user_id', 'orders']\n",
    "\n",
    "orders_by_users_b = (\n",
    "    orders[orders['group'] == 'B']\n",
    "    .groupby('visitor_id', as_index=False)\n",
    "    .agg({'transaction_id': pd.Series.nunique})\n",
    ")\n",
    "orders_by_users_b.columns = ['user_id', 'orders']\n",
    "\n",
    "sample_a = pd.concat([orders_by_users_a['orders'],\n",
    "                     pd.Series(0, index=np.arange(total_visitors_a - \\\n",
    "                     len(orders_by_users_a['orders'])), name='orders')],axis=0)\n",
    "\n",
    "sample_b = pd.concat([orders_by_users_b['orders'],\n",
    "                      pd.Series(0, index=np.arange(total_visitors_b - \\\n",
    "                      len(orders_by_users_b['orders'])), name='orders')],axis=0)\n",
    "\n",
    "print('p-value: {0:.3f}'.format(stats.mannwhitneyu(sample_a, sample_b)[1]))\n",
    "print('Относительный прирост среднего числа заказов на посетителя группы B: \\\n",
    "      {0:.3f}'.format(sample_b.mean() / sample_a.mean() - 1))"
   ]
  },
  {
   "cell_type": "markdown",
   "id": "e36d41de",
   "metadata": {},
   "source": [
    "По «сырым» данным есть различия в среднем числе заказов на посетителя групп A и B.\n",
    "P-value меньше 0.05. Значит, нулевую гипотезу о том, что статистически значимых различий в среднем числе заказов на посетителя между группами нет, отвергаем. Относительный выйгрыш группы B равен 16 %."
   ]
  },
  {
   "cell_type": "markdown",
   "id": "19926981",
   "metadata": {},
   "source": [
    "#### Расчет статистической значимости различий в среднем чеке заказа между группами по \"сырым\" данным"
   ]
  },
  {
   "cell_type": "markdown",
   "id": "5dfb907f",
   "metadata": {},
   "source": [
    "Рассчитаю статистическую значимость различий в среднем чеке заказа между группами по «сырым» данным — без удаления аномальных пользователей.\n",
    "\n",
    "**Сформулирую нулевую гипотезу:**\n",
    "\n",
    "**H₀** = Различий в среднем чеке заказа между группами нет\n",
    "\n",
    "**Исходя из нулевой гипотезы сформулирую альтернативную:**\n",
    "\n",
    "**H₁** = Различия в среднем чеке заказа между группами есть\n",
    "\n",
    "Уровень статистической значимости **α** = 0.05 \n",
    "Проверка статистической значимости будет производиться с помощью критерия Манна-Уитни, так как этот тест учитывает выбросы в данных путем ранжирования значений."
   ]
  },
  {
   "cell_type": "code",
   "execution_count": 30,
   "id": "1973b0b8",
   "metadata": {},
   "outputs": [
    {
     "name": "stdout",
     "output_type": "stream",
     "text": [
      "p-value: 0.415\n",
      "Относительный прирост среднего чека заказа в группе B: 0.287\n"
     ]
    }
   ],
   "source": [
    "print('p-value: {0:.3f}'.format(stats.mannwhitneyu(\n",
    "                                            orders[orders['group']=='A']['revenue'], \n",
    "                                            orders[orders['group']=='B']['revenue'])[1]))\n",
    "\n",
    "print('Относительный прирост среднего чека заказа в группе B: {0:.3f}'.format(\n",
    "                         orders[orders['group']=='B']['revenue'].mean()/ \\\n",
    "                         orders[orders['group']=='A']['revenue'].mean()-1))"
   ]
  },
  {
   "cell_type": "markdown",
   "id": "a466fe1d",
   "metadata": {},
   "source": [
    "P-value значительно больше 0.05. Значит, причин отвергать нулевую гипотезу и считать, что в среднем чеке есть различия, нет. Средний чек группы B больше среднего чека группы A на 28.7 %."
   ]
  },
  {
   "cell_type": "markdown",
   "id": "6aefb024",
   "metadata": {},
   "source": [
    "#### Расчет статистической значимости различий в среднем количестве заказов на посетителя между группами по \"очищенным\" данным"
   ]
  },
  {
   "cell_type": "markdown",
   "id": "0bb9e12a",
   "metadata": {},
   "source": [
    "Приму за аномальных пользователей тех, кто совершил больше 2 заказов или совершил заказ дороже 53 904 рублей. Сделаю срезы пользователей с числом заказов больше 2 — `anomaly_orders` и пользователей, совершивших заказы дороже 53 904 — `anomaly_cost`. Объединю их в таблице `anomaly_users`.\n",
    "\n",
    "Узнаю, сколько всего аномальных пользователей атрибутом `shape`."
   ]
  },
  {
   "cell_type": "code",
   "execution_count": 31,
   "id": "7aefd14f",
   "metadata": {
    "scrolled": false
   },
   "outputs": [
    {
     "name": "stdout",
     "output_type": "stream",
     "text": [
      "16\n"
     ]
    }
   ],
   "source": [
    "orders_limit = np.percentile(orders_by_users['orders'], 99)\n",
    "cost_limit = np.percentile(orders['revenue'], 99)\n",
    "\n",
    "anomaly_orders = pd.concat(\n",
    "    [\n",
    "        orders_by_users_a[orders_by_users_a['orders'] > orders_limit]['user_id'],\n",
    "        orders_by_users_b[orders_by_users_b['orders'] > orders_limit]['user_id'],\n",
    "    ],\n",
    "    axis=0,\n",
    ")\n",
    "anomaly_cost = orders[orders['revenue'] > cost_limit]['visitor_id']\n",
    "\n",
    "anomaly_users = (\n",
    "    pd.concat([anomaly_orders, anomaly_cost], axis=0)\n",
    "    .drop_duplicates()\n",
    "    .sort_values()\n",
    ")\n",
    "\n",
    "print(anomaly_users.shape[0])"
   ]
  },
  {
   "cell_type": "markdown",
   "id": "388584ef",
   "metadata": {},
   "source": [
    "Всего 16 аномальных пользователей. Узнаю, как их действия повлияли на результаты теста. Посчитаю статистическую значимость различий в среднем количестве заказов на посетителя между группами теста по очищенным данным. Сначала подготовлю выборки количества заказов по пользователям по группам теста."
   ]
  },
  {
   "cell_type": "code",
   "execution_count": 32,
   "id": "ef54f657",
   "metadata": {
    "scrolled": true
   },
   "outputs": [
    {
     "name": "stdout",
     "output_type": "stream",
     "text": [
      "Относительный процент потерь в пользователях:       0.02 %\n"
     ]
    }
   ],
   "source": [
    "print(f'Относительный процент потерь в пользователях: \\\n",
    "      {round(anomaly_users.shape[0] / len(orders.visitor_id.unique() * 100), 2)} %')"
   ]
  },
  {
   "cell_type": "markdown",
   "id": "94c4939c",
   "metadata": {},
   "source": [
    "По перцентилям убрала 1 % аномальных пользователей, относительный процент потерь в пользователях равен 0.02 %. Таких пользователей мало, но они могут исказить результаты анализа, поэтому отфильтрую этих пользователей."
   ]
  },
  {
   "cell_type": "markdown",
   "id": "a6ec7384",
   "metadata": {},
   "source": [
    "**Сформулирую нулевую гипотезу:**\n",
    "\n",
    "**H₀** = Различий в среднем количестве заказов на посетителя между группами по очищенным данным нет\n",
    "\n",
    "**Исходя из нулевой гипотезы сформулирую альтернативную:**\n",
    "\n",
    "**H₁** = Различия в среднем количестве заказов на посетителя между группами по очищенным данным есть\n",
    "\n",
    "Уровень статистической значимости **α** = 0.05\n",
    "Проверка статистической значимости будет производиться с помощью критерия Манна-Уитни."
   ]
  },
  {
   "cell_type": "code",
   "execution_count": 33,
   "id": "9a273eb9",
   "metadata": {},
   "outputs": [
    {
     "name": "stdout",
     "output_type": "stream",
     "text": [
      "p-value: 0.004\n",
      "Относительный прирост среднего числа заказов на посетителя группы B: 0.189\n"
     ]
    }
   ],
   "source": [
    "sample_a_filter = pd.concat(\n",
    "    [orders_by_users_a[np.logical_not(orders_by_users_a['user_id'].isin(anomaly_users))]['orders'],\n",
    "    pd.Series(0, index=np.arange(total_visitors_a - len(orders_by_users_a['orders'])), name='orders')],\n",
    "    axis=0)\n",
    "\n",
    "sample_b_filter = pd.concat(\n",
    "    [orders_by_users_b[np.logical_not(orders_by_users_b['user_id'].isin(anomaly_users))]['orders'],\n",
    "    pd.Series(0, index=np.arange(total_visitors_b - len(orders_by_users_b['orders'])), name='orders')],\n",
    "    axis=0)\n",
    "\n",
    "print('p-value: {0:.3f}'.format(stats.mannwhitneyu(sample_a_filter, sample_b_filter)[1]))\n",
    "print('Относительный прирост среднего числа заказов на посетителя группы B: {0:.3f}' \\\n",
    "      .format(sample_b_filter.mean()/sample_a_filter.mean()-1))"
   ]
  },
  {
   "cell_type": "markdown",
   "id": "67627102",
   "metadata": {},
   "source": [
    "Результаты по среднему количеству заказов практически не изменились."
   ]
  },
  {
   "cell_type": "markdown",
   "id": "cb0112e2",
   "metadata": {},
   "source": [
    "#### Расчет статистической значимости различий в среднем чеке заказа между группами по \"очищенным\" данным"
   ]
  },
  {
   "cell_type": "markdown",
   "id": "0d4dfb7a",
   "metadata": {},
   "source": [
    "Рассчитаю статистическую значимость различий в среднем чеке заказа между группами по «очищенным» данным\n",
    "\n",
    "**Сформулирую нулевую гипотезу:**\n",
    "\n",
    "**H₀** = Различий в среднем чеке заказа между группами по очищенным данным нет\n",
    "\n",
    "**Исходя из нулевой гипотезы сформулирую альтернативную:**\n",
    "\n",
    "**H₁** = Различия в среднем чеке заказа между группами по очищенным данным есть\n",
    "\n",
    "Уровень статистической значимости **α** = 0.05 \n",
    "Проверка статистической значимости будет производиться с помощью критерия Манна-Уитни."
   ]
  },
  {
   "cell_type": "code",
   "execution_count": 34,
   "id": "bf1b5b56",
   "metadata": {},
   "outputs": [
    {
     "name": "stdout",
     "output_type": "stream",
     "text": [
      "p-value: 0.394\n",
      "Относительный прирост среднего чека заказа в группе B: -0.032\n"
     ]
    }
   ],
   "source": [
    "print(\n",
    "    'p-value: {0:.3f}'.format(\n",
    "        stats.mannwhitneyu(\n",
    "            orders[\n",
    "                np.logical_and(\n",
    "                    orders['group'] == 'A',\n",
    "                    np.logical_not(orders['visitor_id'].isin(anomaly_users)),\n",
    "                )\n",
    "            ]['revenue'],\n",
    "            orders[\n",
    "                np.logical_and(\n",
    "                    orders['group'] == 'B',\n",
    "                    np.logical_not(orders['visitor_id'].isin(anomaly_users)),\n",
    "                )\n",
    "            ]['revenue'],\n",
    "        )[1]\n",
    "    )\n",
    ")\n",
    "\n",
    "print(\n",
    "    \"Относительный прирост среднего чека заказа в группе B: {0:.3f}\".format(\n",
    "        orders[\n",
    "            np.logical_and(\n",
    "                orders['group'] == 'B',\n",
    "                np.logical_not(orders['visitor_id'].isin(anomaly_users)),\n",
    "            )\n",
    "        ]['revenue'].mean()\n",
    "        / orders[\n",
    "            np.logical_and(\n",
    "                orders['group'] == 'A',\n",
    "                np.logical_not(orders['visitor_id'].isin(anomaly_users)),\n",
    "            )\n",
    "        ]['revenue'].mean()\n",
    "        - 1\n",
    "    )\n",
    ")"
   ]
  },
  {
   "cell_type": "markdown",
   "id": "9e5aac47",
   "metadata": {},
   "source": [
    "P-value немного уменьшился, но все так же больше 0.05. Значит, причин отвергать нулевую гипотезу и считать, что в среднем чеке есть различия, нет. \n",
    "Однако, средние чеки выровнялись, разница между группа А и В по среднему чеку сократилась до 3%."
   ]
  },
  {
   "cell_type": "markdown",
   "id": "010fed94",
   "metadata": {},
   "source": [
    "### Вывод"
   ]
  },
  {
   "cell_type": "markdown",
   "id": "345c11a2",
   "metadata": {},
   "source": [
    "В ходе работы были приоритезированы гипотезы и сделан анализ А/В теста. На основе анализа данных, были сделаны следущие выводы:\n",
    "\n",
    "1. **Необходимо обратить внимание на следующие гипотезы:**\n",
    "\n",
    "- Если не нужно учитывать охват пользователей интернет-магазина:\n",
    "\n",
    "\n",
    "    - \"Запустить акцию, дающую скидку на товар в день рождения\",\n",
    "    - \"Добавить два новых канала привлечения трафика, что позволит привлекать на 30% больше пользователей\",\n",
    "\n",
    "- Если необходимо учитывать охват пользователей интернет-магазина:\n",
    "\n",
    "\n",
    "    - \"Добавить форму подписки на все основные страницы, чтобы собрать базу клиентов для email-рассылок\",\n",
    "    - \"Добавить блоки рекомендаций товаров на сайт интернет магазина, чтобы повысить конверсию и средний чек заказа\",\n",
    "\n",
    "2. **Результаты А/В теста**\n",
    "\n",
    "- Необходимо учитывать момент, связанный с попаданием пользователей в 2 группы одновременно\n",
    "- По «сырым» и «очищенным» данным есть различия в среднем числе заказов на посетителя групп A и B. Группа В выигрывает на 18.9% по «очищенным» данным и на 16 % по «сырым»\n",
    "- Нет статистически значимого различия по среднему чеку между группами ни по «сырым», ни по данным после фильтрации аномалий. По «очищенным» данным различия между группами практически отсутствуют, по «сырым» средний чек группы В на 28.7% больше.\n",
    "- График различия среднего количества заказов на посетителя между группами сообщает, что результаты группы B колеблются, но держатся на высоком уровне\n",
    "- График различия среднего чека говорит о том, что результаты группы B ухудшаются начиная с 20.08.19\n",
    "\n",
    "\n",
    "**Рекомендую остановить тест, зафиксировав победу группы B; при имеющихся данных сегмент B лучше сегмента A**"
   ]
  }
 ],
 "metadata": {
  "ExecuteTimeLog": [
   {
    "duration": 86,
    "start_time": "2023-04-24T08:52:00.343Z"
   },
   {
    "duration": 46,
    "start_time": "2023-04-24T08:58:56.006Z"
   },
   {
    "duration": 1469,
    "start_time": "2023-04-24T08:59:14.896Z"
   },
   {
    "duration": 5,
    "start_time": "2023-04-24T08:59:16.367Z"
   },
   {
    "duration": 255,
    "start_time": "2023-04-24T08:59:16.373Z"
   },
   {
    "duration": 24,
    "start_time": "2023-04-24T08:59:16.630Z"
   },
   {
    "duration": 4,
    "start_time": "2023-04-24T08:59:16.655Z"
   },
   {
    "duration": 24,
    "start_time": "2023-04-24T08:59:16.661Z"
   },
   {
    "duration": 5,
    "start_time": "2023-04-24T08:59:16.687Z"
   },
   {
    "duration": 20,
    "start_time": "2023-04-24T08:59:16.694Z"
   },
   {
    "duration": 4,
    "start_time": "2023-04-24T08:59:16.715Z"
   },
   {
    "duration": 8,
    "start_time": "2023-04-24T08:59:16.722Z"
   },
   {
    "duration": 64,
    "start_time": "2023-04-24T08:59:16.732Z"
   },
   {
    "duration": 16,
    "start_time": "2023-04-24T08:59:16.799Z"
   },
   {
    "duration": 11,
    "start_time": "2023-04-24T08:59:16.817Z"
   },
   {
    "duration": 67,
    "start_time": "2023-04-24T08:59:16.830Z"
   },
   {
    "duration": 6,
    "start_time": "2023-04-24T08:59:16.899Z"
   },
   {
    "duration": 224,
    "start_time": "2023-04-24T08:59:16.907Z"
   },
   {
    "duration": 0,
    "start_time": "2023-04-24T08:59:17.133Z"
   },
   {
    "duration": 0,
    "start_time": "2023-04-24T08:59:17.190Z"
   },
   {
    "duration": 0,
    "start_time": "2023-04-24T08:59:17.191Z"
   },
   {
    "duration": 0,
    "start_time": "2023-04-24T08:59:17.192Z"
   },
   {
    "duration": 0,
    "start_time": "2023-04-24T08:59:17.194Z"
   },
   {
    "duration": 0,
    "start_time": "2023-04-24T08:59:17.195Z"
   },
   {
    "duration": 0,
    "start_time": "2023-04-24T08:59:17.196Z"
   },
   {
    "duration": 0,
    "start_time": "2023-04-24T08:59:17.197Z"
   },
   {
    "duration": 0,
    "start_time": "2023-04-24T08:59:17.198Z"
   },
   {
    "duration": 0,
    "start_time": "2023-04-24T08:59:17.199Z"
   },
   {
    "duration": 0,
    "start_time": "2023-04-24T08:59:17.200Z"
   },
   {
    "duration": 0,
    "start_time": "2023-04-24T08:59:17.201Z"
   },
   {
    "duration": 0,
    "start_time": "2023-04-24T08:59:17.202Z"
   },
   {
    "duration": 0,
    "start_time": "2023-04-24T08:59:17.204Z"
   },
   {
    "duration": 0,
    "start_time": "2023-04-24T08:59:17.205Z"
   },
   {
    "duration": 0,
    "start_time": "2023-04-24T08:59:17.206Z"
   },
   {
    "duration": 0,
    "start_time": "2023-04-24T08:59:17.207Z"
   },
   {
    "duration": 0,
    "start_time": "2023-04-24T08:59:17.208Z"
   },
   {
    "duration": 0,
    "start_time": "2023-04-24T08:59:17.209Z"
   },
   {
    "duration": 12,
    "start_time": "2023-04-24T08:59:25.480Z"
   },
   {
    "duration": 4,
    "start_time": "2023-04-24T08:59:48.523Z"
   },
   {
    "duration": 309,
    "start_time": "2023-04-24T08:59:48.529Z"
   },
   {
    "duration": 299,
    "start_time": "2023-04-24T08:59:48.840Z"
   },
   {
    "duration": 220,
    "start_time": "2023-04-24T08:59:49.141Z"
   },
   {
    "duration": 376,
    "start_time": "2023-04-24T08:59:49.363Z"
   },
   {
    "duration": 235,
    "start_time": "2023-04-24T08:59:49.741Z"
   },
   {
    "duration": 0,
    "start_time": "2023-04-24T08:59:49.978Z"
   },
   {
    "duration": 0,
    "start_time": "2023-04-24T08:59:49.988Z"
   },
   {
    "duration": 0,
    "start_time": "2023-04-24T08:59:49.989Z"
   },
   {
    "duration": 0,
    "start_time": "2023-04-24T08:59:49.990Z"
   },
   {
    "duration": 0,
    "start_time": "2023-04-24T08:59:49.992Z"
   },
   {
    "duration": 0,
    "start_time": "2023-04-24T08:59:49.993Z"
   },
   {
    "duration": 0,
    "start_time": "2023-04-24T08:59:49.994Z"
   },
   {
    "duration": 0,
    "start_time": "2023-04-24T08:59:49.995Z"
   },
   {
    "duration": 0,
    "start_time": "2023-04-24T08:59:49.996Z"
   },
   {
    "duration": 0,
    "start_time": "2023-04-24T08:59:49.997Z"
   },
   {
    "duration": 0,
    "start_time": "2023-04-24T08:59:49.998Z"
   },
   {
    "duration": 0,
    "start_time": "2023-04-24T08:59:49.999Z"
   },
   {
    "duration": 0,
    "start_time": "2023-04-24T08:59:50.000Z"
   },
   {
    "duration": 210,
    "start_time": "2023-04-24T09:00:29.812Z"
   },
   {
    "duration": 226,
    "start_time": "2023-04-24T09:00:39.087Z"
   },
   {
    "duration": 221,
    "start_time": "2023-04-24T09:03:39.895Z"
   },
   {
    "duration": 388,
    "start_time": "2023-04-24T09:03:51.054Z"
   },
   {
    "duration": 212,
    "start_time": "2023-04-24T09:05:11.607Z"
   },
   {
    "duration": 1210,
    "start_time": "2023-04-24T09:05:37.511Z"
   },
   {
    "duration": 3,
    "start_time": "2023-04-24T09:05:38.723Z"
   },
   {
    "duration": 193,
    "start_time": "2023-04-24T09:05:38.728Z"
   },
   {
    "duration": 23,
    "start_time": "2023-04-24T09:05:38.923Z"
   },
   {
    "duration": 4,
    "start_time": "2023-04-24T09:05:38.947Z"
   },
   {
    "duration": 30,
    "start_time": "2023-04-24T09:05:38.952Z"
   },
   {
    "duration": 7,
    "start_time": "2023-04-24T09:05:38.984Z"
   },
   {
    "duration": 43,
    "start_time": "2023-04-24T09:05:38.993Z"
   },
   {
    "duration": 4,
    "start_time": "2023-04-24T09:05:39.039Z"
   },
   {
    "duration": 36,
    "start_time": "2023-04-24T09:05:39.047Z"
   },
   {
    "duration": 19,
    "start_time": "2023-04-24T09:05:39.085Z"
   },
   {
    "duration": 15,
    "start_time": "2023-04-24T09:05:39.106Z"
   },
   {
    "duration": 14,
    "start_time": "2023-04-24T09:05:39.123Z"
   },
   {
    "duration": 58,
    "start_time": "2023-04-24T09:05:39.139Z"
   },
   {
    "duration": 5,
    "start_time": "2023-04-24T09:05:39.199Z"
   },
   {
    "duration": 17,
    "start_time": "2023-04-24T09:05:39.206Z"
   },
   {
    "duration": 4,
    "start_time": "2023-04-24T09:05:39.225Z"
   },
   {
    "duration": 596,
    "start_time": "2023-04-24T09:05:39.230Z"
   },
   {
    "duration": 678,
    "start_time": "2023-04-24T09:05:39.827Z"
   },
   {
    "duration": 502,
    "start_time": "2023-04-24T09:05:40.507Z"
   },
   {
    "duration": 382,
    "start_time": "2023-04-24T09:05:41.011Z"
   },
   {
    "duration": 341,
    "start_time": "2023-04-24T09:05:41.395Z"
   },
   {
    "duration": 0,
    "start_time": "2023-04-24T09:05:41.738Z"
   },
   {
    "duration": 0,
    "start_time": "2023-04-24T09:05:41.739Z"
   },
   {
    "duration": 0,
    "start_time": "2023-04-24T09:05:41.740Z"
   },
   {
    "duration": 0,
    "start_time": "2023-04-24T09:05:41.741Z"
   },
   {
    "duration": 0,
    "start_time": "2023-04-24T09:05:41.743Z"
   },
   {
    "duration": 0,
    "start_time": "2023-04-24T09:05:41.743Z"
   },
   {
    "duration": 0,
    "start_time": "2023-04-24T09:05:41.745Z"
   },
   {
    "duration": 0,
    "start_time": "2023-04-24T09:05:41.746Z"
   },
   {
    "duration": 0,
    "start_time": "2023-04-24T09:05:41.747Z"
   },
   {
    "duration": 0,
    "start_time": "2023-04-24T09:05:41.748Z"
   },
   {
    "duration": 0,
    "start_time": "2023-04-24T09:05:41.749Z"
   },
   {
    "duration": 0,
    "start_time": "2023-04-24T09:05:41.750Z"
   },
   {
    "duration": 0,
    "start_time": "2023-04-24T09:05:41.751Z"
   },
   {
    "duration": 221,
    "start_time": "2023-04-24T09:06:12.251Z"
   },
   {
    "duration": 223,
    "start_time": "2023-04-24T09:06:57.952Z"
   },
   {
    "duration": 290,
    "start_time": "2023-04-24T09:07:30.481Z"
   },
   {
    "duration": 312,
    "start_time": "2023-04-24T09:07:45.201Z"
   },
   {
    "duration": 226,
    "start_time": "2023-04-24T09:08:09.594Z"
   },
   {
    "duration": 340,
    "start_time": "2023-04-24T09:08:49.775Z"
   },
   {
    "duration": 142,
    "start_time": "2023-04-24T09:08:50.118Z"
   },
   {
    "duration": 5,
    "start_time": "2023-04-24T09:08:50.262Z"
   },
   {
    "duration": 168,
    "start_time": "2023-04-24T09:08:50.269Z"
   },
   {
    "duration": 197,
    "start_time": "2023-04-24T09:08:50.439Z"
   },
   {
    "duration": 6,
    "start_time": "2023-04-24T09:08:50.637Z"
   },
   {
    "duration": 262,
    "start_time": "2023-04-24T09:08:50.645Z"
   },
   {
    "duration": 13,
    "start_time": "2023-04-24T09:08:50.908Z"
   },
   {
    "duration": 15,
    "start_time": "2023-04-24T09:08:50.923Z"
   },
   {
    "duration": 6,
    "start_time": "2023-04-24T09:08:50.940Z"
   },
   {
    "duration": 49,
    "start_time": "2023-04-24T09:08:50.948Z"
   },
   {
    "duration": 16,
    "start_time": "2023-04-24T09:08:50.999Z"
   },
   {
    "duration": 12,
    "start_time": "2023-04-24T09:08:51.017Z"
   },
   {
    "duration": 128,
    "start_time": "2023-04-24T09:09:16.203Z"
   },
   {
    "duration": 149,
    "start_time": "2023-04-24T09:09:24.921Z"
   },
   {
    "duration": 151,
    "start_time": "2023-04-24T09:09:41.506Z"
   },
   {
    "duration": 166,
    "start_time": "2023-04-24T09:11:06.304Z"
   },
   {
    "duration": 30,
    "start_time": "2023-04-24T09:14:07.881Z"
   },
   {
    "duration": 1259,
    "start_time": "2023-04-24T09:16:04.979Z"
   },
   {
    "duration": 3,
    "start_time": "2023-04-24T09:16:06.241Z"
   },
   {
    "duration": 163,
    "start_time": "2023-04-24T09:16:06.246Z"
   },
   {
    "duration": 25,
    "start_time": "2023-04-24T09:16:06.411Z"
   },
   {
    "duration": 9,
    "start_time": "2023-04-24T09:16:06.438Z"
   },
   {
    "duration": 313,
    "start_time": "2023-04-24T09:16:06.449Z"
   },
   {
    "duration": 30,
    "start_time": "2023-04-24T09:16:06.764Z"
   },
   {
    "duration": 46,
    "start_time": "2023-04-24T09:16:06.796Z"
   },
   {
    "duration": 13,
    "start_time": "2023-04-24T09:16:06.844Z"
   },
   {
    "duration": 36,
    "start_time": "2023-04-24T09:16:06.860Z"
   },
   {
    "duration": 35,
    "start_time": "2023-04-24T09:16:06.898Z"
   },
   {
    "duration": 28,
    "start_time": "2023-04-24T09:16:06.935Z"
   },
   {
    "duration": 39,
    "start_time": "2023-04-24T09:16:06.965Z"
   },
   {
    "duration": 41,
    "start_time": "2023-04-24T09:16:07.007Z"
   },
   {
    "duration": 6,
    "start_time": "2023-04-24T09:16:07.050Z"
   },
   {
    "duration": 22,
    "start_time": "2023-04-24T09:16:07.058Z"
   },
   {
    "duration": 10,
    "start_time": "2023-04-24T09:16:07.082Z"
   },
   {
    "duration": 314,
    "start_time": "2023-04-24T09:16:07.094Z"
   },
   {
    "duration": 320,
    "start_time": "2023-04-24T09:16:07.410Z"
   },
   {
    "duration": 241,
    "start_time": "2023-04-24T09:16:07.731Z"
   },
   {
    "duration": 326,
    "start_time": "2023-04-24T09:16:07.974Z"
   },
   {
    "duration": 254,
    "start_time": "2023-04-24T09:16:08.302Z"
   },
   {
    "duration": 334,
    "start_time": "2023-04-24T09:16:08.558Z"
   },
   {
    "duration": 196,
    "start_time": "2023-04-24T09:16:08.894Z"
   },
   {
    "duration": 5,
    "start_time": "2023-04-24T09:16:09.093Z"
   },
   {
    "duration": 324,
    "start_time": "2023-04-24T09:16:09.100Z"
   },
   {
    "duration": 501,
    "start_time": "2023-04-24T09:16:09.427Z"
   },
   {
    "duration": 5,
    "start_time": "2023-04-24T09:16:09.987Z"
   },
   {
    "duration": 421,
    "start_time": "2023-04-24T09:16:09.994Z"
   },
   {
    "duration": 16,
    "start_time": "2023-04-24T09:16:10.418Z"
   },
   {
    "duration": 30,
    "start_time": "2023-04-24T09:16:10.490Z"
   },
   {
    "duration": 66,
    "start_time": "2023-04-24T09:16:10.522Z"
   },
   {
    "duration": 132,
    "start_time": "2023-04-24T09:16:10.591Z"
   },
   {
    "duration": 72,
    "start_time": "2023-04-24T09:16:10.725Z"
   },
   {
    "duration": 3,
    "start_time": "2023-04-24T09:24:39.114Z"
   },
   {
    "duration": 134,
    "start_time": "2023-04-24T09:27:25.307Z"
   },
   {
    "duration": 153,
    "start_time": "2023-04-24T09:27:56.771Z"
   },
   {
    "duration": 1206,
    "start_time": "2023-04-24T09:28:06.225Z"
   },
   {
    "duration": 3,
    "start_time": "2023-04-24T09:28:07.434Z"
   },
   {
    "duration": 129,
    "start_time": "2023-04-24T09:28:07.439Z"
   },
   {
    "duration": 22,
    "start_time": "2023-04-24T09:28:07.570Z"
   },
   {
    "duration": 3,
    "start_time": "2023-04-24T09:28:07.594Z"
   },
   {
    "duration": 33,
    "start_time": "2023-04-24T09:28:07.599Z"
   },
   {
    "duration": 5,
    "start_time": "2023-04-24T09:28:07.634Z"
   },
   {
    "duration": 24,
    "start_time": "2023-04-24T09:28:07.641Z"
   },
   {
    "duration": 4,
    "start_time": "2023-04-24T09:28:07.667Z"
   },
   {
    "duration": 20,
    "start_time": "2023-04-24T09:28:07.672Z"
   },
   {
    "duration": 14,
    "start_time": "2023-04-24T09:28:07.694Z"
   },
   {
    "duration": 12,
    "start_time": "2023-04-24T09:28:07.710Z"
   },
   {
    "duration": 8,
    "start_time": "2023-04-24T09:28:07.724Z"
   },
   {
    "duration": 21,
    "start_time": "2023-04-24T09:28:07.735Z"
   },
   {
    "duration": 32,
    "start_time": "2023-04-24T09:28:07.758Z"
   },
   {
    "duration": 14,
    "start_time": "2023-04-24T09:28:07.792Z"
   },
   {
    "duration": 10,
    "start_time": "2023-04-24T09:28:07.807Z"
   },
   {
    "duration": 320,
    "start_time": "2023-04-24T09:28:07.818Z"
   },
   {
    "duration": 317,
    "start_time": "2023-04-24T09:28:08.140Z"
   },
   {
    "duration": 242,
    "start_time": "2023-04-24T09:28:08.459Z"
   },
   {
    "duration": 312,
    "start_time": "2023-04-24T09:28:08.703Z"
   },
   {
    "duration": 240,
    "start_time": "2023-04-24T09:28:09.017Z"
   },
   {
    "duration": 351,
    "start_time": "2023-04-24T09:28:09.259Z"
   },
   {
    "duration": 148,
    "start_time": "2023-04-24T09:28:09.612Z"
   },
   {
    "duration": 4,
    "start_time": "2023-04-24T09:28:09.762Z"
   },
   {
    "duration": 172,
    "start_time": "2023-04-24T09:28:09.768Z"
   },
   {
    "duration": 233,
    "start_time": "2023-04-24T09:28:09.943Z"
   },
   {
    "duration": 12,
    "start_time": "2023-04-24T09:28:10.177Z"
   },
   {
    "duration": 196,
    "start_time": "2023-04-24T09:28:10.191Z"
   },
   {
    "duration": 14,
    "start_time": "2023-04-24T09:28:10.390Z"
   },
   {
    "duration": 25,
    "start_time": "2023-04-24T09:28:10.406Z"
   },
   {
    "duration": 13,
    "start_time": "2023-04-24T09:28:10.434Z"
   },
   {
    "duration": 58,
    "start_time": "2023-04-24T09:28:10.449Z"
   },
   {
    "duration": 19,
    "start_time": "2023-04-24T09:28:10.510Z"
   },
   {
    "duration": 311,
    "start_time": "2023-04-24T09:29:18.309Z"
   },
   {
    "duration": 327,
    "start_time": "2023-04-24T09:30:08.148Z"
   },
   {
    "duration": 305,
    "start_time": "2023-04-24T09:30:20.707Z"
   },
   {
    "duration": 352,
    "start_time": "2023-04-24T09:30:36.648Z"
   },
   {
    "duration": 302,
    "start_time": "2023-04-24T09:30:44.244Z"
   },
   {
    "duration": 306,
    "start_time": "2023-04-24T09:30:59.317Z"
   },
   {
    "duration": 171,
    "start_time": "2023-04-24T09:31:41.879Z"
   },
   {
    "duration": 1366,
    "start_time": "2023-04-24T09:31:54.736Z"
   },
   {
    "duration": 4,
    "start_time": "2023-04-24T09:31:56.103Z"
   },
   {
    "duration": 214,
    "start_time": "2023-04-24T09:31:56.109Z"
   },
   {
    "duration": 63,
    "start_time": "2023-04-24T09:31:56.325Z"
   },
   {
    "duration": 4,
    "start_time": "2023-04-24T09:31:56.390Z"
   },
   {
    "duration": 104,
    "start_time": "2023-04-24T09:31:56.396Z"
   },
   {
    "duration": 40,
    "start_time": "2023-04-24T09:31:56.502Z"
   },
   {
    "duration": 60,
    "start_time": "2023-04-24T09:31:56.544Z"
   },
   {
    "duration": 15,
    "start_time": "2023-04-24T09:31:56.605Z"
   },
   {
    "duration": 64,
    "start_time": "2023-04-24T09:31:56.623Z"
   },
   {
    "duration": 14,
    "start_time": "2023-04-24T09:31:56.689Z"
   },
   {
    "duration": 36,
    "start_time": "2023-04-24T09:31:56.704Z"
   },
   {
    "duration": 48,
    "start_time": "2023-04-24T09:31:56.742Z"
   },
   {
    "duration": 32,
    "start_time": "2023-04-24T09:31:56.791Z"
   },
   {
    "duration": 18,
    "start_time": "2023-04-24T09:31:56.824Z"
   },
   {
    "duration": 52,
    "start_time": "2023-04-24T09:31:56.843Z"
   },
   {
    "duration": 19,
    "start_time": "2023-04-24T09:31:56.897Z"
   },
   {
    "duration": 611,
    "start_time": "2023-04-24T09:31:56.918Z"
   },
   {
    "duration": 308,
    "start_time": "2023-04-24T09:31:57.531Z"
   },
   {
    "duration": 228,
    "start_time": "2023-04-24T09:31:57.841Z"
   },
   {
    "duration": 329,
    "start_time": "2023-04-24T09:31:58.071Z"
   },
   {
    "duration": 235,
    "start_time": "2023-04-24T09:31:58.401Z"
   },
   {
    "duration": 311,
    "start_time": "2023-04-24T09:31:58.638Z"
   },
   {
    "duration": 142,
    "start_time": "2023-04-24T09:31:58.951Z"
   },
   {
    "duration": 5,
    "start_time": "2023-04-24T09:31:59.095Z"
   },
   {
    "duration": 161,
    "start_time": "2023-04-24T09:31:59.101Z"
   },
   {
    "duration": 240,
    "start_time": "2023-04-24T09:31:59.263Z"
   },
   {
    "duration": 4,
    "start_time": "2023-04-24T09:31:59.507Z"
   },
   {
    "duration": 179,
    "start_time": "2023-04-24T09:31:59.513Z"
   },
   {
    "duration": 12,
    "start_time": "2023-04-24T09:31:59.694Z"
   },
   {
    "duration": 11,
    "start_time": "2023-04-24T09:31:59.708Z"
   },
   {
    "duration": 14,
    "start_time": "2023-04-24T09:31:59.721Z"
   },
   {
    "duration": 54,
    "start_time": "2023-04-24T09:31:59.736Z"
   },
   {
    "duration": 15,
    "start_time": "2023-04-24T09:31:59.792Z"
   },
   {
    "duration": 169,
    "start_time": "2023-04-24T09:33:35.736Z"
   },
   {
    "duration": 1252,
    "start_time": "2023-04-24T09:36:42.880Z"
   },
   {
    "duration": 4,
    "start_time": "2023-04-24T09:36:44.134Z"
   },
   {
    "duration": 148,
    "start_time": "2023-04-24T09:36:44.140Z"
   },
   {
    "duration": 23,
    "start_time": "2023-04-24T09:36:44.290Z"
   },
   {
    "duration": 4,
    "start_time": "2023-04-24T09:36:44.315Z"
   },
   {
    "duration": 34,
    "start_time": "2023-04-24T09:36:44.321Z"
   },
   {
    "duration": 6,
    "start_time": "2023-04-24T09:36:44.356Z"
   },
   {
    "duration": 34,
    "start_time": "2023-04-24T09:36:44.364Z"
   },
   {
    "duration": 17,
    "start_time": "2023-04-24T09:36:44.400Z"
   },
   {
    "duration": 11,
    "start_time": "2023-04-24T09:36:44.421Z"
   },
   {
    "duration": 38,
    "start_time": "2023-04-24T09:36:44.434Z"
   },
   {
    "duration": 20,
    "start_time": "2023-04-24T09:36:44.474Z"
   },
   {
    "duration": 4,
    "start_time": "2023-04-24T09:36:44.496Z"
   },
   {
    "duration": 23,
    "start_time": "2023-04-24T09:36:44.503Z"
   },
   {
    "duration": 11,
    "start_time": "2023-04-24T09:36:44.528Z"
   },
   {
    "duration": 46,
    "start_time": "2023-04-24T09:36:44.541Z"
   },
   {
    "duration": 32,
    "start_time": "2023-04-24T09:36:44.589Z"
   },
   {
    "duration": 325,
    "start_time": "2023-04-24T09:36:44.623Z"
   },
   {
    "duration": 326,
    "start_time": "2023-04-24T09:36:44.950Z"
   },
   {
    "duration": 228,
    "start_time": "2023-04-24T09:36:45.278Z"
   },
   {
    "duration": 315,
    "start_time": "2023-04-24T09:36:45.508Z"
   },
   {
    "duration": 252,
    "start_time": "2023-04-24T09:36:45.825Z"
   },
   {
    "duration": 376,
    "start_time": "2023-04-24T09:36:46.079Z"
   },
   {
    "duration": 167,
    "start_time": "2023-04-24T09:36:46.457Z"
   },
   {
    "duration": 5,
    "start_time": "2023-04-24T09:36:46.626Z"
   },
   {
    "duration": 180,
    "start_time": "2023-04-24T09:36:46.633Z"
   },
   {
    "duration": 260,
    "start_time": "2023-04-24T09:36:46.815Z"
   },
   {
    "duration": 12,
    "start_time": "2023-04-24T09:36:47.078Z"
   },
   {
    "duration": 167,
    "start_time": "2023-04-24T09:36:47.092Z"
   },
   {
    "duration": 10,
    "start_time": "2023-04-24T09:36:47.261Z"
   },
   {
    "duration": 23,
    "start_time": "2023-04-24T09:36:47.273Z"
   },
   {
    "duration": 23,
    "start_time": "2023-04-24T09:36:47.298Z"
   },
   {
    "duration": 47,
    "start_time": "2023-04-24T09:36:47.323Z"
   },
   {
    "duration": 14,
    "start_time": "2023-04-24T09:36:47.372Z"
   },
   {
    "duration": 1204,
    "start_time": "2023-04-25T09:12:42.529Z"
   },
   {
    "duration": 4,
    "start_time": "2023-04-25T09:12:43.735Z"
   },
   {
    "duration": 258,
    "start_time": "2023-04-25T09:12:43.741Z"
   },
   {
    "duration": 22,
    "start_time": "2023-04-25T09:12:44.001Z"
   },
   {
    "duration": 20,
    "start_time": "2023-04-25T09:12:44.026Z"
   },
   {
    "duration": 26,
    "start_time": "2023-04-25T09:12:44.047Z"
   },
   {
    "duration": 17,
    "start_time": "2023-04-25T09:12:44.075Z"
   },
   {
    "duration": 31,
    "start_time": "2023-04-25T09:12:44.094Z"
   },
   {
    "duration": 7,
    "start_time": "2023-04-25T09:12:44.127Z"
   },
   {
    "duration": 19,
    "start_time": "2023-04-25T09:12:44.136Z"
   },
   {
    "duration": 14,
    "start_time": "2023-04-25T09:12:44.158Z"
   },
   {
    "duration": 13,
    "start_time": "2023-04-25T09:12:44.175Z"
   },
   {
    "duration": 18,
    "start_time": "2023-04-25T09:12:44.190Z"
   },
   {
    "duration": 27,
    "start_time": "2023-04-25T09:12:44.211Z"
   },
   {
    "duration": 6,
    "start_time": "2023-04-25T09:12:44.240Z"
   },
   {
    "duration": 26,
    "start_time": "2023-04-25T09:12:44.248Z"
   },
   {
    "duration": 25,
    "start_time": "2023-04-25T09:12:44.276Z"
   },
   {
    "duration": 312,
    "start_time": "2023-04-25T09:12:44.303Z"
   },
   {
    "duration": 289,
    "start_time": "2023-04-25T09:12:44.617Z"
   },
   {
    "duration": 215,
    "start_time": "2023-04-25T09:12:44.908Z"
   },
   {
    "duration": 345,
    "start_time": "2023-04-25T09:12:45.124Z"
   },
   {
    "duration": 233,
    "start_time": "2023-04-25T09:12:45.471Z"
   },
   {
    "duration": 306,
    "start_time": "2023-04-25T09:12:45.705Z"
   },
   {
    "duration": 130,
    "start_time": "2023-04-25T09:12:46.012Z"
   },
   {
    "duration": 5,
    "start_time": "2023-04-25T09:12:46.143Z"
   },
   {
    "duration": 174,
    "start_time": "2023-04-25T09:12:46.149Z"
   },
   {
    "duration": 222,
    "start_time": "2023-04-25T09:12:46.325Z"
   },
   {
    "duration": 4,
    "start_time": "2023-04-25T09:12:46.549Z"
   },
   {
    "duration": 156,
    "start_time": "2023-04-25T09:12:46.562Z"
   },
   {
    "duration": 10,
    "start_time": "2023-04-25T09:12:46.720Z"
   },
   {
    "duration": 9,
    "start_time": "2023-04-25T09:12:46.731Z"
   },
   {
    "duration": 24,
    "start_time": "2023-04-25T09:12:46.741Z"
   },
   {
    "duration": 30,
    "start_time": "2023-04-25T09:12:46.767Z"
   },
   {
    "duration": 14,
    "start_time": "2023-04-25T09:12:46.799Z"
   }
  ],
  "kernelspec": {
   "display_name": "Python 3 (ipykernel)",
   "language": "python",
   "name": "python3"
  },
  "language_info": {
   "codemirror_mode": {
    "name": "ipython",
    "version": 3
   },
   "file_extension": ".py",
   "mimetype": "text/x-python",
   "name": "python",
   "nbconvert_exporter": "python",
   "pygments_lexer": "ipython3",
   "version": "3.7.8"
  },
  "toc": {
   "base_numbering": 1,
   "nav_menu": {},
   "number_sections": true,
   "sideBar": true,
   "skip_h1_title": true,
   "title_cell": "Table of Contents",
   "title_sidebar": "Contents",
   "toc_cell": false,
   "toc_position": {
    "height": "calc(100% - 180px)",
    "left": "10px",
    "top": "150px",
    "width": "303.825px"
   },
   "toc_section_display": true,
   "toc_window_display": true
  }
 },
 "nbformat": 4,
 "nbformat_minor": 5
}
